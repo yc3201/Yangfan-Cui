{
 "cells": [
  {
   "cell_type": "code",
   "execution_count": 29,
   "metadata": {},
   "outputs": [
    {
     "name": "stdout",
     "output_type": "stream",
     "text": [
      "['mean radius' 'mean texture' 'mean perimeter' 'mean area'\n",
      " 'mean smoothness' 'mean compactness' 'mean concavity'\n",
      " 'mean concave points' 'mean symmetry' 'mean fractal dimension'\n",
      " 'radius error' 'texture error' 'perimeter error' 'area error'\n",
      " 'smoothness error' 'compactness error' 'concavity error'\n",
      " 'concave points error' 'symmetry error' 'fractal dimension error'\n",
      " 'worst radius' 'worst texture' 'worst perimeter' 'worst area'\n",
      " 'worst smoothness' 'worst compactness' 'worst concavity'\n",
      " 'worst concave points' 'worst symmetry' 'worst fractal dimension']\n",
      "(569, 30)\n"
     ]
    }
   ],
   "source": [
    "# %load 'HW9'\n",
    "#!/usr/bin/env python3\n",
    "\"\"\"\n",
    "Created on Sun Apr 15 00:18:32 2018\n",
    "\n",
    "@author: Yangfan Cui\n",
    "\"\"\"\n",
    "\n",
    "import pandas as pd\n",
    "from sklearn.datasets import load_breast_cancer\n",
    "##  Q1\n",
    "Cancer = load_breast_cancer()\n",
    "print(Cancer['feature_names'])\n",
    "print(Cancer['data'].shape)"
   ]
  },
  {
   "cell_type": "code",
   "execution_count": 30,
   "metadata": {},
   "outputs": [
    {
     "name": "stdout",
     "output_type": "stream",
     "text": [
      "The number of input:  30\n"
     ]
    }
   ],
   "source": [
    "##Q2\n",
    "print('The number of input: ',len(Cancer['feature_names']))"
   ]
  },
  {
   "cell_type": "code",
   "execution_count": 31,
   "metadata": {
    "collapsed": true
   },
   "outputs": [],
   "source": [
    "##Q3\n",
    "target = pd.DataFrame(Cancer['target'])\n",
    "target['1'] = 1- target\n",
    "X = Cancer['data']\n",
    "y = target.values\n",
    "from sklearn.model_selection import train_test_split\n",
    "x_train, x_test, y_train, y_test = train_test_split(X,y,test_size = 0.2,random_state = 1)"
   ]
  },
  {
   "cell_type": "code",
   "execution_count": 32,
   "metadata": {},
   "outputs": [
    {
     "name": "stdout",
     "output_type": "stream",
     "text": [
      "Shape of \"x\" = (?, 30)\n",
      "Shape of \"y\" = (?, 2)\n",
      "Shape of \"is_training\" = ()\n"
     ]
    }
   ],
   "source": [
    "##Q4\n",
    "###1)\n",
    "import tensorflow as tf\n",
    "tf.reset_default_graph()\n",
    "x = tf.placeholder('float32', shape=(None, 30), name='x')###should have the same input size, which is 30\n",
    "y = tf.placeholder('int64', shape=(None,2 ), name='y')\n",
    "is_training = tf.placeholder(tf.bool, shape=(),name='is_training')\n",
    "print('Shape of \"x\" =',x.shape)\n",
    "print('Shape of \"y\" =',y.shape)\n",
    "print('Shape of \"is_training\" =',is_training.shape)"
   ]
  },
  {
   "cell_type": "code",
   "execution_count": 33,
   "metadata": {
    "collapsed": true
   },
   "outputs": [],
   "source": [
    "###2)build layers\n",
    "scaled = tf.contrib.layers.batch_norm(x, center=True,\n",
    "                                      scale=True, scope='scaled',\n",
    "                                      is_training=is_training)\n",
    "hidden1 = tf.contrib.layers.fully_connected(scaled,\n",
    "                                            num_outputs=5, scope='hidden1',\n",
    "                                            activation_fn=tf.nn.relu)\n",
    "hidden2 = tf.contrib.layers.fully_connected(hidden1,\n",
    "                                            num_outputs=10, scope='hidden2',\n",
    "                                            activation_fn=tf.nn.relu)\n",
    "logits = tf.contrib.layers.fully_connected(hidden2,\n",
    "                                           num_outputs=2, scope='logits',\n",
    "                                           activation_fn=None)\n",
    "output = tf.nn.softmax(logits, name='output')"
   ]
  },
  {
   "cell_type": "code",
   "execution_count": 34,
   "metadata": {
    "collapsed": true
   },
   "outputs": [],
   "source": [
    "###3) Prepare measures of goodness of fit: accuracy and logloss for logging\n",
    "logloss = tf.losses.log_loss(predictions=tf.nn.softmax(logits), labels=y)\n",
    "correct_prediction = tf.equal(tf.argmax(output, axis = 1), tf.argmax(y, axis = 1))\n",
    "accuracy = tf.reduce_mean(tf.cast(correct_prediction, \"float\"))"
   ]
  },
  {
   "cell_type": "code",
   "execution_count": 35,
   "metadata": {
    "collapsed": true
   },
   "outputs": [],
   "source": [
    "def train(n_epochs, batch_size,trained_params_path): \n",
    "    update_ops = tf.get_collection(tf.GraphKeys.UPDATE_OPS)     \n",
    "    with tf.control_dependencies(update_ops): \n",
    "        # Ensures that we execute the update_ops before performing the train_step         \n",
    "        optimizer = tf.train.AdamOptimizer()         \n",
    "        # Select type of optimizer         \n",
    "        train_step = optimizer.minimize(logloss)         \n",
    "        # Gradient descent step \n",
    "    sess = tf.Session()      \n",
    "\n",
    "    sess.run(tf.global_variables_initializer())  # Initialize all variables     \n",
    "    saver = tf.train.Saver()  # use saver to store trained model parameters on disk     \n",
    "    best_epoch = 0     \n",
    "    best_test_logloss = float(\"inf\")     \n",
    "    test_accuracy_for_best_test_logloss = 0 \n",
    "\n",
    "    history = [] \n",
    "    for epoch in range(n_epochs): \n",
    "        batch_from = 0 \n",
    "        while batch_from < len(y_train): \n",
    "            batch_to = min(batch_from + batch_size, len(y_train)) \n",
    "            x_trainbatch = x_train[batch_from:batch_to,] \n",
    "            y_trainbatch = y_train[batch_from:batch_to] \n",
    "            batch_from = batch_from + batch_size # for next iteration \n",
    "            sess.run(train_step, feed_dict ={x: x_trainbatch, y: y_trainbatch, is_training: True }) \n",
    "        # Run batches through the network until epoch is over \n",
    "        # Calculate statistics (logloss & accuracy) for train & test: \n",
    "        train_res = sess.run([logloss, accuracy], \n",
    "                             feed_dict ={x: x_train, y: y_train, is_training: False }) \n",
    "        test_res = sess.run([logloss, accuracy], \n",
    "                            feed_dict ={x: x_test, y: y_test, is_training: False }) \n",
    "        history += [[epoch] + train_res + test_res] \n",
    "        \n",
    "        test_logloss = test_res[0] \n",
    "        test_accuracy = test_res[1] \n",
    "        if test_logloss < best_test_logloss: \n",
    "            # save params for best test logloss only \n",
    "            saver.save(sess, trained_params_path) \n",
    "            best_epoch = epoch \n",
    "            best_test_logloss = test_logloss \n",
    "            test_accuracy_for_best_test_logloss = test_accuracy \n",
    "\n",
    "    print('Best epoch is #{} with test logloss of {:.4f} (test_accuracy = {:.4f})'.format(best_epoch, best_test_logloss, test_accuracy_for_best_test_logloss))    \n",
    "    sess.close()\n",
    "    return history "
   ]
  },
  {
   "cell_type": "code",
   "execution_count": 44,
   "metadata": {},
   "outputs": [
    {
     "name": "stdout",
     "output_type": "stream",
     "text": [
      "Best epoch is #310 with test logloss of 0.2044 (test_accuracy = 0.9474)\n",
      "(1000, 5)\n"
     ]
    }
   ],
   "source": [
    "###b)Analyze the results\n",
    "    ###1)– Plot the curve of logloss vs epoch\n",
    "import matplotlib.pyplot as plt\n",
    "df_h=train(1000, 40, './trained_variables.ckpt')\n",
    "df_h=pd.DataFrame(df_h)\n",
    "print(df_h.shape)"
   ]
  },
  {
   "cell_type": "code",
   "execution_count": 45,
   "metadata": {},
   "outputs": [
    {
     "data": {
      "image/png": "[encoded data removed]",
      "text/plain": [
       "<matplotlib.figure.Figure at 0x1c1ea95c18>"
      ]
     },
     "metadata": {},
     "output_type": "display_data"
    }
   ],
   "source": [
    "# Plot logloss for train & test\n",
    "\n",
    "plt.figure(figsize=(9,5))\n",
    "plt.plot(df_h.iloc[:,0], df_h.iloc[:,1], label='train') \n",
    "plt.plot(df_h.iloc[:,0], df_h.iloc[:,3], label='test') \n",
    "plt.title('logloss') \n",
    "plt.legend() \n",
    "plt.show()"
   ]
  },
  {
   "cell_type": "code",
   "execution_count": 38,
   "metadata": {},
   "outputs": [
    {
     "data": {
      "image/png": "[encoded data removed]",
      "text/plain": [
       "<matplotlib.figure.Figure at 0x1c1ed6c358>"
      ]
     },
     "metadata": {},
     "output_type": "display_data"
    }
   ],
   "source": [
    "###2 – Plot the curve of accuracy vs epoch\n",
    "plt.figure(figsize=(9,5))\n",
    "plt.plot(df_h.iloc[:,0], df_h.iloc[:,2], label='train')\n",
    "plt.plot(df_h.iloc[:,0], df_h.iloc[:,4], label='test')\n",
    "plt.title('accuracy')\n",
    "plt.legend()\n",
    "plt.show()"
   ]
  },
  {
   "cell_type": "markdown",
   "metadata": {},
   "source": [
    "From two graphs above, they show that on the begining of training, since it is underfit the model, the loss is high  and accuracy is low. After hundreds of epochs, the loss decreases and accuracy increases in to a stable level for both training set and test set."
   ]
  },
  {
   "cell_type": "code",
   "execution_count": 39,
   "metadata": {},
   "outputs": [
    {
     "name": "stdout",
     "output_type": "stream",
     "text": [
      "INFO:tensorflow:Restoring parameters from ./trained_variables.ckpt\n",
      "(114, 2)\n"
     ]
    },
    {
     "data": {
      "image/png": "[encoded data removed]",
      "text/plain": [
       "<matplotlib.figure.Figure at 0x1c1ed6ca58>"
      ]
     },
     "metadata": {},
     "output_type": "display_data"
    }
   ],
   "source": [
    "### predict\n",
    "def predict(x_new, trained_params_path):\n",
    "    with tf.Session() as sess:\n",
    "        saver = tf.train.Saver()\n",
    "        saver.restore(sess, trained_params_path)\n",
    "        pr = output.eval(feed_dict={x: x_new, is_training:False})\n",
    "        return pr\n",
    "z = predict(x_test, './trained_variables.ckpt')\n",
    "print(z.shape)\n",
    "# blue for class 0, orange for class 1\n",
    "color = ['blue' if y == 0 else 'orange' for y in y_test[:,1]]\n",
    "plt.scatter(range(y_test.shape[0]), z[:,1], color=color)\n",
    "plt.title('Probability of class 1')\n",
    "plt.show()"
   ]
  },
  {
   "cell_type": "code",
   "execution_count": null,
   "metadata": {
    "collapsed": true
   },
   "outputs": [],
   "source": []
  }
 ],
 "metadata": {
  "kernelspec": {
   "display_name": "Python 3",
   "language": "python",
   "name": "python3"
  },
  "language_info": {
   "codemirror_mode": {
    "name": "ipython",
    "version": 3
   },
   "file_extension": ".py",
   "mimetype": "text/x-python",
   "name": "python",
   "nbconvert_exporter": "python",
   "pygments_lexer": "ipython3",
   "version": "3.6.3"
  }
 },
 "nbformat": 4,
 "nbformat_minor": 2
}
